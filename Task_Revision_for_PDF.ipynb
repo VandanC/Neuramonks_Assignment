{
  "nbformat": 4,
  "nbformat_minor": 0,
  "metadata": {
    "colab": {
      "provenance": [],
      "authorship_tag": "ABX9TyON8fySpZGWh0KnimcE13iE",
      "include_colab_link": true
    },
    "kernelspec": {
      "name": "python3",
      "display_name": "Python 3"
    },
    "language_info": {
      "name": "python"
    }
  },
  "cells": [
    {
      "cell_type": "markdown",
      "metadata": {
        "id": "view-in-github",
        "colab_type": "text"
      },
      "source": [
        "<a href=\"https://colab.research.google.com/github/VandanC/Neuramonks_Assignment/blob/main/Task_Revision_for_PDF.ipynb\" target=\"_parent\"><img src=\"https://colab.research.google.com/assets/colab-badge.svg\" alt=\"Open In Colab\"/></a>"
      ]
    },
    {
      "cell_type": "code",
      "source": [
        "!pip install langchain_community"
      ],
      "metadata": {
        "id": "M8OCjzD6OvgJ"
      },
      "execution_count": null,
      "outputs": []
    },
    {
      "cell_type": "code",
      "source": [
        "!pip install langchain"
      ],
      "metadata": {
        "id": "CFmxlW_zlm2i"
      },
      "execution_count": null,
      "outputs": []
    },
    {
      "cell_type": "code",
      "source": [
        "!pip install pymupdf"
      ],
      "metadata": {
        "id": "Azr3rFkJcwiU"
      },
      "execution_count": null,
      "outputs": []
    },
    {
      "cell_type": "code",
      "source": [
        "!pip install -U langchain-text-splitters"
      ],
      "metadata": {
        "id": "3VIZdZk9dD6B"
      },
      "execution_count": null,
      "outputs": []
    },
    {
      "cell_type": "code",
      "source": [
        "!pip install faiss-cpu"
      ],
      "metadata": {
        "id": "Lta95hNXdPI4"
      },
      "execution_count": null,
      "outputs": []
    },
    {
      "cell_type": "code",
      "source": [
        "!pip install sentence_transformers"
      ],
      "metadata": {
        "id": "OQi15VvIsm09"
      },
      "execution_count": null,
      "outputs": []
    },
    {
      "cell_type": "code",
      "source": [
        "import fitz\n",
        "\n",
        "raw_text = []\n",
        "\n",
        "doc = fitz.open('API SPEC 5L-46th edition 2018.pdf')\n",
        "\n",
        "for page in doc:\n",
        "    raw_text.append(page.get_text())\n",
        "\n",
        "raw_text = \" \".join(raw_text)"
      ],
      "metadata": {
        "id": "gc9ZMudfP1Cl"
      },
      "execution_count": 7,
      "outputs": []
    },
    {
      "cell_type": "code",
      "source": [
        "from langchain.text_splitter import RecursiveCharacterTextSplitter\n",
        "from langchain.docstore.document import Document\n",
        "\n",
        "\n",
        "text_splitter = RecursiveCharacterTextSplitter(\n",
        "            chunk_size=500, chunk_overlap=0\n",
        "        )\n",
        "texts = text_splitter.split_text(raw_text)\n",
        "docs = [Document(page_content=t) for t in texts]"
      ],
      "metadata": {
        "id": "et7OfXODc7eA"
      },
      "execution_count": 12,
      "outputs": []
    },
    {
      "cell_type": "code",
      "source": [
        "from langchain.vectorstores import FAISS\n",
        "from langchain_community.embeddings import HuggingFaceBgeEmbeddings\n",
        "\n",
        "vector_embeddings = FAISS.from_documents(\n",
        "            documents=docs,\n",
        "            embedding=HuggingFaceBgeEmbeddings()\n",
        "        )\n"
      ],
      "metadata": {
        "id": "39eyb8xUdgxe"
      },
      "execution_count": null,
      "outputs": []
    },
    {
      "cell_type": "code",
      "source": [
        "from langchain.chains import RetrievalQA\n",
        "from langchain.prompts import PromptTemplate\n",
        "from langchain_community.llms.huggingface_pipeline import HuggingFacePipeline\n",
        "\n",
        "prompt_template = \"\"\"You are an assistant for question-answering tasks. Use the following pieces of retrieved context to answer the question. If you don't know the answer, just say that you don't know. Use three sentences maximum and keep the answer concise.\n",
        "                        Question: {question}\n",
        "                        Context: {context}\n",
        "                        Answer:\"\"\"\n",
        "\n",
        "\n",
        "prompt = PromptTemplate(\n",
        "            input_variables=[\"context\", \"question\"], template=prompt_template\n",
        "        )\n",
        "\n",
        "\n",
        "\n",
        "\n",
        "llm = HuggingFacePipeline.from_model_id(\n",
        "    model_id=\"gpt2\",\n",
        "    task=\"text-generation\"\n",
        ")\n",
        "\n",
        "\n",
        "qa = RetrievalQA.from_chain_type(\n",
        "            llm=llm,\n",
        "            chain_type=\"stuff\",\n",
        "            retriever=vector_embeddings.as_retriever(\n",
        "                search_type=\"similarity\"\n",
        "            ),\n",
        "            return_source_documents=True,\n",
        "            chain_type_kwargs={\"prompt\": prompt},\n",
        "        )\n"
      ],
      "metadata": {
        "id": "_1jyWpELmUmD"
      },
      "execution_count": null,
      "outputs": []
    },
    {
      "cell_type": "code",
      "source": [
        "qa.invoke({'query': \"Explain Guided-bend Test\"})"
      ],
      "metadata": {
        "id": "lrGFsKUloj7v"
      },
      "execution_count": null,
      "outputs": []
    },
    {
      "cell_type": "code",
      "source": [],
      "metadata": {
        "id": "aBORlJJBpLRc"
      },
      "execution_count": null,
      "outputs": []
    }
  ]
}